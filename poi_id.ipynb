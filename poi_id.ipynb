{
 "cells": [
  {
   "cell_type": "markdown",
   "metadata": {},
   "source": [
    "# Data Analyst Nanodegree\n",
    "## Project 5: Intro. to Machine Learning: Enron POI Identifier \n",
    "\n",
    "## By Stephen Fox\n",
    "## February 2017\n",
    "_____\n",
    "\n",
    "### Overview\n",
    "\n",
    "This notebook contains data exploratory and coding components of the project. For discussion and analysis, please refer to the accompanying report."
   ]
  },
  {
   "cell_type": "code",
   "execution_count": 1,
   "metadata": {
    "collapsed": false
   },
   "outputs": [
    {
     "name": "stdout",
     "output_type": "stream",
     "text": [
      "Populating the interactive namespace from numpy and matplotlib\n"
     ]
    }
   ],
   "source": [
    "#!/usr/bin/python\n",
    "\n",
    "# Import libraries\n",
    "\n",
    "import sys\n",
    "import pickle\n",
    "import numpy as np\n",
    "import pandas as pd\n",
    "\n",
    "%pylab inline\n",
    "import matplotlib.pyplot as plt\n",
    "import seaborn as sns\n",
    "\n",
    "#sys.path.append(\"../tools/\")\n",
    "\n",
    "# Import data formating functions from other files\n",
    "\n",
    "from feature_format import featureFormat, targetFeatureSplit\n",
    "from tester import dump_classifier_and_data"
   ]
  },
  {
   "cell_type": "code",
   "execution_count": 2,
   "metadata": {
    "collapsed": false
   },
   "outputs": [],
   "source": [
    "# Load the dictionary containing the dataset\n",
    "\n",
    "with open(\"final_project_dataset.pkl\", \"r\") as data_file:\n",
    "    data_dict = pickle.load(data_file)"
   ]
  },
  {
   "cell_type": "markdown",
   "metadata": {},
   "source": [
    "I'll take a high level look at the size and basic structure of the data dictionary:"
   ]
  },
  {
   "cell_type": "code",
   "execution_count": 3,
   "metadata": {
    "collapsed": false
   },
   "outputs": [
    {
     "name": "stdout",
     "output_type": "stream",
     "text": [
      "Gross data set size (# people): 146\n",
      "\n",
      "\n",
      "example per person (Using Jeffrey Skilling):\n",
      "{'salary': 1111258, 'to_messages': 3627, 'deferral_payments': 'NaN', 'total_payments': 8682716, 'exercised_stock_options': 19250000, 'bonus': 5600000, 'restricted_stock': 6843672, 'shared_receipt_with_poi': 2042, 'restricted_stock_deferred': 'NaN', 'total_stock_value': 26093672, 'expenses': 29336, 'loan_advances': 'NaN', 'from_messages': 108, 'other': 22122, 'from_this_person_to_poi': 30, 'poi': True, 'director_fees': 'NaN', 'deferred_income': 'NaN', 'long_term_incentive': 1920000, 'email_address': 'jeff.skilling@enron.com', 'from_poi_to_this_person': 88}\n",
      "\n",
      "\n",
      "features per person: 20\n"
     ]
    }
   ],
   "source": [
    "print \"Gross data set size (# people):\", len(data_dict)\n",
    "print '\\n'\n",
    "print \"example per person (Using Jeffrey Skilling):\"\n",
    "print data_dict[\"SKILLING JEFFREY K\"]\n",
    "print '\\n'\n",
    "\n",
    "# Substract 1 to account for the 'poi' field, which is a label\n",
    "print \"features per person:\", len(data_dict[\"SKILLING JEFFREY K\"])-1"
   ]
  },
  {
   "cell_type": "markdown",
   "metadata": {},
   "source": [
    "So the gross data dictionary contains 146 unique samples (presumably unique people). For each person, we confirm that there are 20 features (excluding 'poi'). This result is consistent with the feature list provided."
   ]
  },
  {
   "cell_type": "code",
   "execution_count": 4,
   "metadata": {
    "collapsed": false
   },
   "outputs": [],
   "source": [
    "# Convert data dictionary into a pandas dataframe, for ease of EDA\n",
    "\n",
    "df = pd.DataFrame.from_records(list(data_dict.values()))\n",
    "employees = pd.Series(list(data_dict.keys()))\n",
    "df.set_index(employees, inplace = True)"
   ]
  },
  {
   "cell_type": "markdown",
   "metadata": {},
   "source": [
    "A cursory glance at the data reveals that there is a large number of 'NaN' values for the various features. For example, consider the 'bonus' field:"
   ]
  },
  {
   "cell_type": "code",
   "execution_count": 5,
   "metadata": {
    "collapsed": false
   },
   "outputs": [
    {
     "data": {
      "text/plain": [
       "NaN         64\n",
       "600000       6\n",
       "1000000      6\n",
       "700000       5\n",
       "400000       4\n",
       "800000       4\n",
       "750000       4\n",
       "325000       3\n",
       "850000       3\n",
       "200000       3\n",
       "300000       3\n",
       "900000       2\n",
       "1200000      2\n",
       "100000       2\n",
       "1500000      2\n",
       "3000000      2\n",
       "1100000      2\n",
       "500000       2\n",
       "250000       2\n",
       "2000000      2\n",
       "350000       2\n",
       "5249999      1\n",
       "97343619     1\n",
       "2600000      1\n",
       "1700000      1\n",
       "450000       1\n",
       "5600000      1\n",
       "8000000      1\n",
       "788750       1\n",
       "7000000      1\n",
       "509870       1\n",
       "1150000      1\n",
       "1250000      1\n",
       "70000        1\n",
       "4175000      1\n",
       "650000       1\n",
       "1350000      1\n",
       "3100000      1\n",
       "1300000      1\n",
       "425000       1\n",
       "1750000      1\n",
       "2500000      1\n",
       "Name: bonus, dtype: int64"
      ]
     },
     "execution_count": 5,
     "metadata": {},
     "output_type": "execute_result"
    }
   ],
   "source": [
    "df['bonus'].value_counts()"
   ]
  },
  {
   "cell_type": "markdown",
   "metadata": {},
   "source": [
    "A large number (64) of the 146 samples do not include bonus data. There are three options to deal with this issue: \n",
    "\n",
    "First, I could ignore this fact and move ahead with the analysis. However, unless the proportion of NaNs between POIs and non-POIs is identical, this runs the risk of biasing the machine learning algorithm to use the presence or absence of NaN as a predictive indicator. \n",
    "\n",
    "Second, I can replace the 'NaN' strings with np.nan. This is the approach I will use during the machine learning portion later in the project, since it lets me use only those data points where an actual value exists, for a given feature. However, for the exploratory phase and outlier detection phase of the project, using np.nan is not desirable, since it will inhibit my ability to e.g. sum various features to check for data consistency (i.e. number + np.nan = np.nan). \n",
    "\n",
    "Third, I could convert NaN values to zero. I believe this is undesirable for the machine learning phase of the project, since doing so would make it hard to distinguish between a person with a very low value for a given field and someone with a NaN value, since in both cases the value would be at or near zero. However, for the data exploratory and outlier detection phase, I believe this is a good approach, since it will let me sum features across columns to conduct data checks of various types.\n",
    "\n",
    "To summarize, I will replace 'NaN' values with zero now and then use np.nan during the machine learning portion of the project."
   ]
  },
  {
   "cell_type": "code",
   "execution_count": 6,
   "metadata": {
    "collapsed": false
   },
   "outputs": [],
   "source": [
    "df.replace('NaN', 0, inplace = True)"
   ]
  },
  {
   "cell_type": "markdown",
   "metadata": {},
   "source": [
    "After running np.nan, the NaN values are no longer counted as part of a given field, as is desired, having been replaced by zeroes instead. For example, consider 'bonus' again:"
   ]
  },
  {
   "cell_type": "code",
   "execution_count": 8,
   "metadata": {
    "collapsed": false
   },
   "outputs": [
    {
     "data": {
      "text/plain": [
       "0           64\n",
       "1000000      6\n",
       "600000       6\n",
       "700000       5\n",
       "400000       4\n",
       "750000       4\n",
       "800000       4\n",
       "850000       3\n",
       "300000       3\n",
       "200000       3\n",
       "325000       3\n",
       "500000       2\n",
       "1500000      2\n",
       "100000       2\n",
       "1200000      2\n",
       "250000       2\n",
       "900000       2\n",
       "3000000      2\n",
       "2000000      2\n",
       "1100000      2\n",
       "350000       2\n",
       "1150000      1\n",
       "70000        1\n",
       "1300000      1\n",
       "650000       1\n",
       "788750       1\n",
       "425000       1\n",
       "3100000      1\n",
       "450000       1\n",
       "1750000      1\n",
       "2600000      1\n",
       "8000000      1\n",
       "2500000      1\n",
       "1350000      1\n",
       "97343619     1\n",
       "4175000      1\n",
       "1700000      1\n",
       "509870       1\n",
       "7000000      1\n",
       "5249999      1\n",
       "1250000      1\n",
       "5600000      1\n",
       "Name: bonus, dtype: int64"
      ]
     },
     "execution_count": 8,
     "metadata": {},
     "output_type": "execute_result"
    }
   ],
   "source": [
    "df['bonus'].value_counts()"
   ]
  },
  {
   "cell_type": "code",
   "execution_count": 9,
   "metadata": {
    "collapsed": false
   },
   "outputs": [
    {
     "data": {
      "text/plain": [
       "bonus                         int64\n",
       "deferral_payments             int64\n",
       "deferred_income               int64\n",
       "director_fees                 int64\n",
       "email_address                object\n",
       "exercised_stock_options       int64\n",
       "expenses                      int64\n",
       "from_messages                 int64\n",
       "from_poi_to_this_person       int64\n",
       "from_this_person_to_poi       int64\n",
       "loan_advances                 int64\n",
       "long_term_incentive           int64\n",
       "other                         int64\n",
       "poi                            bool\n",
       "restricted_stock              int64\n",
       "restricted_stock_deferred     int64\n",
       "salary                        int64\n",
       "shared_receipt_with_poi       int64\n",
       "to_messages                   int64\n",
       "total_payments                int64\n",
       "total_stock_value             int64\n",
       "dtype: object"
      ]
     },
     "execution_count": 9,
     "metadata": {},
     "output_type": "execute_result"
    }
   ],
   "source": [
    "# Confirm that the various fields are the desired data type\n",
    "\n",
    "df.dtypes"
   ]
  },
  {
   "cell_type": "markdown",
   "metadata": {},
   "source": [
    "The label ('poi') is a boolean (0 = not a POI; 1 = POI). All the features are integer values, with the exception of email addresses. This is the expected behavior."
   ]
  },
  {
   "cell_type": "code",
   "execution_count": 10,
   "metadata": {
    "collapsed": false
   },
   "outputs": [
    {
     "name": "stdout",
     "output_type": "stream",
     "text": [
      "Persons of interest Count:\n",
      "False    128\n",
      "True      18\n",
      "Name: poi, dtype: int64\n",
      "\n",
      "\n",
      "Persons of interest Fraction:\n",
      "False    0.876712\n",
      "True     0.123288\n",
      "Name: poi, dtype: float64\n"
     ]
    }
   ],
   "source": [
    "# Determine the split between POIs / non POIs\n",
    "\n",
    "print \"Persons of interest Count:\"\n",
    "print df['poi'].value_counts()\n",
    "\n",
    "print '\\n'\n",
    "print \"Persons of interest Fraction:\"\n",
    "print df['poi'].value_counts(1)"
   ]
  },
  {
   "cell_type": "markdown",
   "metadata": {},
   "source": [
    "So 18 (12.3%) of the 146 samples come from POIs. This is an imbalanced data set, since one label (non POIs) dominates. It is also a small dataset, with only 146 samples. Both the size and inbalance could pose problems during the machine learning portion."
   ]
  },
  {
   "cell_type": "markdown",
   "metadata": {},
   "source": [
    "### Outlier Analysis\n",
    "\n",
    "It is now time to consider whether the data contains any outliers or obvious errors. According to the 'enron61702insiderpay.pdf' document that served as the basis for the financial data in the dataset, 'total_payments' and 'total_stock_value' are the sum total of all the other individual financial features. So as a first step, I will generate a scatterplot of these two features to visualize the distribution of this financial data."
   ]
  },
  {
   "cell_type": "code",
   "execution_count": 11,
   "metadata": {
    "collapsed": false
   },
   "outputs": [
    {
     "data": {
      "text/plain": [
       "<seaborn.axisgrid.FacetGrid at 0x116a91990>"
      ]
     },
     "execution_count": 11,
     "metadata": {},
     "output_type": "execute_result"
    },
    {
     "data": {
      "image/png": "[encoded data removed]",
      "text/plain": [
       "<matplotlib.figure.Figure at 0x116a91b10>"
      ]
     },
     "metadata": {},
     "output_type": "display_data"
    }
   ],
   "source": [
    "# Plot 'total_stock_value' vs. 'total_payments'\n",
    "\n",
    "g = sns.lmplot('total_payments', 'total_stock_value', \n",
    "           data=df, \n",
    "           fit_reg=False, \n",
    "           hue='poi',\n",
    "           scatter_kws={\"marker\": \"D\", \n",
    "                        \"s\": 100})\n",
    "plt.title('Distribution of Top Level Financial Data')\n",
    "plt.xlabel('Total Payments')\n",
    "plt.ylabel('Total Stock Value')\n",
    "\n",
    "g.set(ylim=(0, None))\n",
    "g.set(xlim=(0, None))"
   ]
  },
  {
   "cell_type": "markdown",
   "metadata": {},
   "source": [
    "A couple of points stick out as potential outliers. The first corresponds to a a 'total_payments' value in excess of $300 million, which seems outrageous even by Enron standards. It is also suspicious that this point doesn't correspond to a POI. Let's investigate further by getting the index name for the two points with very large total payment values:"
   ]
  },
  {
   "cell_type": "code",
   "execution_count": 12,
   "metadata": {
    "collapsed": false
   },
   "outputs": [
    {
     "data": {
      "text/plain": [
       "['LAY KENNETH L', 'TOTAL']"
      ]
     },
     "execution_count": 12,
     "metadata": {},
     "output_type": "execute_result"
    }
   ],
   "source": [
    "df[df['total_payments']>1e8].index.tolist()"
   ]
  },
  {
   "cell_type": "markdown",
   "metadata": {},
   "source": [
    "So the smaller outlier corresponds to a known person (Kenneth Lay, Chairman of Enron at the time of the company's collapse) and the larger outlier corresponds to 'Total'. Taking a closer look at the data file pdf, total is simply a sum of all the values for the various individuals in the dataset. It must be removed, as it poses a large risk of biasing the machine learning results, since it would look like an innocent person (i.e. a non POI) who received a massive payout.\n",
    "\n",
    "Based on the fact that the 'Total' data row is included in the dataset, I manually inspected the PDF file for any other non-person data points. I noticed a row called 'The Travel Agency in the Park', with the following data for the various fields:"
   ]
  },
  {
   "cell_type": "code",
   "execution_count": 13,
   "metadata": {
    "collapsed": false
   },
   "outputs": [
    {
     "name": "stdout",
     "output_type": "stream",
     "text": [
      "[[0 0 0 0 0 0 0 0 0 0 0 0 362096 False 0 0 0 0 0 362096 0]]\n"
     ]
    }
   ],
   "source": [
    "print df[df.index == 'THE TRAVEL AGENCY IN THE PARK'].values"
   ]
  },
  {
   "cell_type": "markdown",
   "metadata": {},
   "source": [
    "According to the notes accompanying the PDF, The Travel Agency in the Park was a company controlled by Mr. Lay's sister, and they received an 'other' payment of $362,096. Given that this company is not really an Enron insider, I will drop it from the dataset, along with the 'Total' row, and replot the data:"
   ]
  },
  {
   "cell_type": "code",
   "execution_count": 14,
   "metadata": {
    "collapsed": false
   },
   "outputs": [
    {
     "data": {
      "text/plain": [
       "<seaborn.axisgrid.FacetGrid at 0x116b70e90>"
      ]
     },
     "execution_count": 14,
     "metadata": {},
     "output_type": "execute_result"
    },
    {
     "data": {
      "image/png": "[encoded data removed]",
      "text/plain": [
       "<matplotlib.figure.Figure at 0x116b5bb90>"
      ]
     },
     "metadata": {},
     "output_type": "display_data"
    }
   ],
   "source": [
    "# Remove outliers and replot\n",
    "\n",
    "df = df.drop(['TOTAL', 'THE TRAVEL AGENCY IN THE PARK'])\n",
    "\n",
    "g = sns.lmplot('total_payments', 'total_stock_value', \n",
    "           data=df, \n",
    "           fit_reg=False, \n",
    "           hue='poi',\n",
    "           scatter_kws={\"marker\": \"D\", \n",
    "                        \"s\": 100})\n",
    "plt.title('Distribution of Top Level Financial Data')\n",
    "plt.xlabel('Total Payments')\n",
    "plt.ylabel('Total Stock Value')\n",
    "\n",
    "g.set(xlim=(0, None))\n",
    "g.set(ylim=(0, None))"
   ]
  },
  {
   "cell_type": "markdown",
   "metadata": {},
   "source": [
    "Based on the earlier analysis, I know that the 'outlier' now (with the total payment of approx. $100 million) is Kenneth Lay. Since he is a strong candidate as a POI, I definitely don't want to remove him from the dataset. However, I would like to view the data without his point distorting the graph, so I will regraph on a smaller axis to get a better view of the other points:"
   ]
  },
  {
   "cell_type": "code",
   "execution_count": 15,
   "metadata": {
    "collapsed": false
   },
   "outputs": [
    {
     "data": {
      "text/plain": [
       "<seaborn.axisgrid.FacetGrid at 0x116d32510>"
      ]
     },
     "execution_count": 15,
     "metadata": {},
     "output_type": "execute_result"
    },
    {
     "data": {
      "image/png": "[encoded data removed]",
      "text/plain": [
       "<matplotlib.figure.Figure at 0x116d321d0>"
      ]
     },
     "metadata": {},
     "output_type": "display_data"
    }
   ],
   "source": [
    "# Replot the data on a smaller scale, so as to focus on non Kenneth Lay individuals\n",
    "\n",
    "g = sns.lmplot('total_payments', 'total_stock_value', \n",
    "           data=df, \n",
    "           fit_reg=False, \n",
    "           hue='poi',\n",
    "           scatter_kws={\"marker\": \"D\", \n",
    "                        \"s\": 100})\n",
    "plt.title('Distribution of Top Level Financial Data (Minus Kenneth Lay)')\n",
    "plt.xlabel('Total Payments')\n",
    "plt.ylabel('Total Stock Value')\n",
    "\n",
    "g.set(ylim=(0, 0.4e8))\n",
    "g.set(xlim=(0, 0.2e8))"
   ]
  },
  {
   "cell_type": "markdown",
   "metadata": {},
   "source": [
    "There are no longer any obvious outliers. Next, I would like to conduct a 'sanity' check on the data. According to the PDF provided with the project, the 'total_payments' field should be equal to the sum of nine different fields and the 'total_stock_value' field should be equal to the sum of three other fields. I will now confirm that this holds true in the dataset."
   ]
  },
  {
   "cell_type": "code",
   "execution_count": 16,
   "metadata": {
    "collapsed": false
   },
   "outputs": [
    {
     "name": "stdout",
     "output_type": "stream",
     "text": [
      "Value count for 'total_payment' test failing:\n",
      "201715      1\n",
      "15180562    1\n",
      "Name: TP_test, dtype: int64\n",
      "Value count for 'total_stock_value' test failing:\n",
      "-91471       1\n",
      "-15456290    1\n",
      "Name: TSV_test, dtype: int64\n"
     ]
    }
   ],
   "source": [
    "# Create two new variables, TP_test and TSV_test, for checking whether the\n",
    "# total_payments and total_stock_value fields respectively have been\n",
    "# transcribed to the data file correctly. The full feature list\n",
    "# is provided below for ease of copying / pasting\n",
    "\n",
    "'''\n",
    "Full Feature list:\n",
    "\n",
    "features_list = ['poi','salary', 'deferral_payments', 'total_payments', \n",
    "'loan_advances', 'bonus', 'restricted_stock_deferred', 'deferred_income', \n",
    "'total_stock_value', 'expenses', 'exercised_stock_options', 'other', \n",
    "'long_term_incentive', 'restricted_stock', 'director_fees','to_messages', \n",
    "'email_address', 'from_poi_to_this_person', 'from_messages', \n",
    "'from_this_person_to_poi', 'shared_receipt_with_poi']\n",
    "'''\n",
    "\n",
    "df['TP_test'] = df['total_payments']-(\n",
    "    df['salary']+df['bonus']+df['long_term_incentive']+df['deferred_income']+\n",
    " df['deferral_payments']+df['loan_advances']+df['other']+df['expenses']+df['director_fees'])\n",
    "\n",
    "df['TSV_test'] = df['total_stock_value']-(\n",
    "    df['exercised_stock_options']+df['restricted_stock']+df['restricted_stock_deferred'])\n",
    "\n",
    "\n",
    "print \"Value count for 'total_payment' test failing:\"\n",
    "print df['TP_test'][df['TP_test']!=0].value_counts()\n",
    "\n",
    "print \"Value count for 'total_stock_value' test failing:\"\n",
    "print df['TSV_test'][df['TSV_test']!=0].value_counts()"
   ]
  },
  {
   "cell_type": "markdown",
   "metadata": {},
   "source": [
    "Based on the data above, it appears there are two instances where both the 'total_stock_value' and the 'total_payment' data is erroneous in some way, with one instance of each being of a very large magnitude (-$15MM). Let's now take a closer look at the specific rows generating the problems."
   ]
  },
  {
   "cell_type": "code",
   "execution_count": 17,
   "metadata": {
    "collapsed": false
   },
   "outputs": [
    {
     "name": "stdout",
     "output_type": "stream",
     "text": [
      "['BHATNAGAR SANJAY']\n",
      "['BHATNAGAR SANJAY']\n"
     ]
    }
   ],
   "source": [
    "# print the names of individuals with extremely problematic data\n",
    "\n",
    "print df[df['TP_test']>1e6].index.tolist()\n",
    "print df[df['TSV_test']<-1e6].index.tolist()"
   ]
  },
  {
   "cell_type": "markdown",
   "metadata": {},
   "source": [
    "The hugely erroneous point in both cases is for Sanjay Bhatnagar. Let's take a closer look at this person's specific data:"
   ]
  },
  {
   "cell_type": "code",
   "execution_count": 18,
   "metadata": {
    "collapsed": false
   },
   "outputs": [
    {
     "data": {
      "text/html": [
       "<div>\n",
       "<table border=\"1\" class=\"dataframe\">\n",
       "  <thead>\n",
       "    <tr style=\"text-align: right;\">\n",
       "      <th></th>\n",
       "      <th>bonus</th>\n",
       "      <th>deferral_payments</th>\n",
       "      <th>deferred_income</th>\n",
       "      <th>director_fees</th>\n",
       "      <th>exercised_stock_options</th>\n",
       "      <th>expenses</th>\n",
       "      <th>loan_advances</th>\n",
       "      <th>long_term_incentive</th>\n",
       "      <th>other</th>\n",
       "      <th>restricted_stock</th>\n",
       "      <th>restricted_stock_deferred</th>\n",
       "      <th>salary</th>\n",
       "      <th>total_payments</th>\n",
       "      <th>total_stock_value</th>\n",
       "      <th>TP_test</th>\n",
       "      <th>TSV_test</th>\n",
       "    </tr>\n",
       "  </thead>\n",
       "  <tbody>\n",
       "    <tr>\n",
       "      <th>BHATNAGAR SANJAY</th>\n",
       "      <td>0</td>\n",
       "      <td>0</td>\n",
       "      <td>0</td>\n",
       "      <td>137864</td>\n",
       "      <td>2604490</td>\n",
       "      <td>0</td>\n",
       "      <td>0</td>\n",
       "      <td>0</td>\n",
       "      <td>137864</td>\n",
       "      <td>-2604490</td>\n",
       "      <td>15456290</td>\n",
       "      <td>0</td>\n",
       "      <td>15456290</td>\n",
       "      <td>0</td>\n",
       "      <td>15180562</td>\n",
       "      <td>-15456290</td>\n",
       "    </tr>\n",
       "  </tbody>\n",
       "</table>\n",
       "</div>"
      ],
      "text/plain": [
       "                  bonus  deferral_payments  deferred_income  director_fees  \\\n",
       "BHATNAGAR SANJAY      0                  0                0         137864   \n",
       "\n",
       "                  exercised_stock_options  expenses  loan_advances  \\\n",
       "BHATNAGAR SANJAY                  2604490         0              0   \n",
       "\n",
       "                  long_term_incentive   other  restricted_stock  \\\n",
       "BHATNAGAR SANJAY                    0  137864          -2604490   \n",
       "\n",
       "                  restricted_stock_deferred  salary  total_payments  \\\n",
       "BHATNAGAR SANJAY                   15456290       0        15456290   \n",
       "\n",
       "                  total_stock_value   TP_test  TSV_test  \n",
       "BHATNAGAR SANJAY                  0  15180562 -15456290  "
      ]
     },
     "execution_count": 18,
     "metadata": {},
     "output_type": "execute_result"
    }
   ],
   "source": [
    "df[df.index == 'BHATNAGAR SANJAY'].drop(['poi','to_messages', \n",
    "'email_address', 'from_poi_to_this_person', 'from_messages', \n",
    "'from_this_person_to_poi', 'shared_receipt_with_poi'],axis=1)"
   ]
  },
  {
   "cell_type": "markdown",
   "metadata": {},
   "source": [
    "The raw data for Bhatnagar looks corrupted. The numerical values are correct, but they have been assigned to the wrong columns. For example, the Enron61702insiderpay.pdf file shows this person with $137,864 in 'expenses' whereas the data file has this value assigned to 'director_fees'. I will rebuild this row now, based on the PDF file. "
   ]
  },
  {
   "cell_type": "code",
   "execution_count": 19,
   "metadata": {
    "collapsed": false
   },
   "outputs": [
    {
     "data": {
      "text/html": [
       "<div>\n",
       "<table border=\"1\" class=\"dataframe\">\n",
       "  <thead>\n",
       "    <tr style=\"text-align: right;\">\n",
       "      <th></th>\n",
       "      <th>bonus</th>\n",
       "      <th>deferral_payments</th>\n",
       "      <th>deferred_income</th>\n",
       "      <th>director_fees</th>\n",
       "      <th>exercised_stock_options</th>\n",
       "      <th>expenses</th>\n",
       "      <th>loan_advances</th>\n",
       "      <th>long_term_incentive</th>\n",
       "      <th>other</th>\n",
       "      <th>restricted_stock</th>\n",
       "      <th>restricted_stock_deferred</th>\n",
       "      <th>salary</th>\n",
       "      <th>total_payments</th>\n",
       "      <th>total_stock_value</th>\n",
       "      <th>TP_test</th>\n",
       "      <th>TSV_test</th>\n",
       "    </tr>\n",
       "  </thead>\n",
       "  <tbody>\n",
       "    <tr>\n",
       "      <th>BHATNAGAR SANJAY</th>\n",
       "      <td>0</td>\n",
       "      <td>0</td>\n",
       "      <td>0</td>\n",
       "      <td>0</td>\n",
       "      <td>15456290</td>\n",
       "      <td>137864</td>\n",
       "      <td>0</td>\n",
       "      <td>0</td>\n",
       "      <td>0</td>\n",
       "      <td>2604490</td>\n",
       "      <td>-2604490</td>\n",
       "      <td>0</td>\n",
       "      <td>137864</td>\n",
       "      <td>15456290</td>\n",
       "      <td>0</td>\n",
       "      <td>0</td>\n",
       "    </tr>\n",
       "  </tbody>\n",
       "</table>\n",
       "</div>"
      ],
      "text/plain": [
       "                  bonus  deferral_payments  deferred_income  director_fees  \\\n",
       "BHATNAGAR SANJAY      0                  0                0              0   \n",
       "\n",
       "                  exercised_stock_options  expenses  loan_advances  \\\n",
       "BHATNAGAR SANJAY                 15456290    137864              0   \n",
       "\n",
       "                  long_term_incentive  other  restricted_stock  \\\n",
       "BHATNAGAR SANJAY                    0      0           2604490   \n",
       "\n",
       "                  restricted_stock_deferred  salary  total_payments  \\\n",
       "BHATNAGAR SANJAY                   -2604490       0          137864   \n",
       "\n",
       "                  total_stock_value  TP_test  TSV_test  \n",
       "BHATNAGAR SANJAY           15456290        0         0  "
      ]
     },
     "execution_count": 19,
     "metadata": {},
     "output_type": "execute_result"
    }
   ],
   "source": [
    "# Manually correct erroneous data for Sanjay Bhatnagar\n",
    "\n",
    "df.loc['BHATNAGAR SANJAY','director_fees'] = 0\n",
    "df.loc['BHATNAGAR SANJAY','exercised_stock_options'] = 15456290\n",
    "df.loc['BHATNAGAR SANJAY','expenses'] = 137864\n",
    "df.loc['BHATNAGAR SANJAY','other'] = 0\n",
    "df.loc['BHATNAGAR SANJAY','restricted_stock'] = 2604490\n",
    "df.loc['BHATNAGAR SANJAY','restricted_stock_deferred'] = -2604490\n",
    "df.loc['BHATNAGAR SANJAY','total_payments'] = 137864\n",
    "df.loc['BHATNAGAR SANJAY','total_stock_value'] = 15456290\n",
    "\n",
    "# Run the TP_test and TSV_test calculations again\n",
    "\n",
    "df['TP_test'] = df['total_payments']-(df['salary']+df['bonus']+df['long_term_incentive']+df['deferred_income']+\n",
    "df['deferral_payments']+df['loan_advances']+df['other']+df['expenses']+df['director_fees'])\n",
    "\n",
    "df['TSV_test'] = df['total_stock_value']-(df['exercised_stock_options']+df['restricted_stock']+\n",
    "                                          df['restricted_stock_deferred'])\n",
    "    \n",
    "# Confirm that Sanjay Bhatnagar's data looks correct now\n",
    "                                 \n",
    "df[df.index == 'BHATNAGAR SANJAY'].drop(['poi','to_messages', \n",
    "'email_address', 'from_poi_to_this_person', 'from_messages', \n",
    "'from_this_person_to_poi', 'shared_receipt_with_poi'],axis=1)"
   ]
  },
  {
   "cell_type": "markdown",
   "metadata": {},
   "source": [
    "Bhatnagar's data now passes both tests. I'll now move on to the other points that failed the test."
   ]
  },
  {
   "cell_type": "code",
   "execution_count": 20,
   "metadata": {
    "collapsed": false
   },
   "outputs": [
    {
     "name": "stdout",
     "output_type": "stream",
     "text": [
      "Value count for 'total_payment' test failing:\n",
      "201715    1\n",
      "Name: TP_test, dtype: int64\n",
      "Value count for 'total_stock_value' test failing:\n",
      "-91471    1\n",
      "Name: TSV_test, dtype: int64\n"
     ]
    }
   ],
   "source": [
    "# Print the updated TP_test and TSV_test results\n",
    "\n",
    "print \"Value count for 'total_payment' test failing:\"\n",
    "print df['TP_test'][df['TP_test']!=0].value_counts()\n",
    "\n",
    "print \"Value count for 'total_stock_value' test failing:\"\n",
    "print df['TSV_test'][df['TSV_test']!=0].value_counts()"
   ]
  },
  {
   "cell_type": "code",
   "execution_count": 21,
   "metadata": {
    "collapsed": false
   },
   "outputs": [
    {
     "name": "stdout",
     "output_type": "stream",
     "text": [
      "['BELFER ROBERT']\n",
      "['BELFER ROBERT']\n"
     ]
    }
   ],
   "source": [
    "print df[df['TP_test']>2e5].index.tolist()\n",
    "print df[df['TSV_test']<-9e4].index.tolist()"
   ]
  },
  {
   "cell_type": "markdown",
   "metadata": {},
   "source": [
    "The data for Robert Belfer looks suspect. Lets take a closer look at the specifics."
   ]
  },
  {
   "cell_type": "code",
   "execution_count": 22,
   "metadata": {
    "collapsed": false
   },
   "outputs": [
    {
     "data": {
      "text/html": [
       "<div>\n",
       "<table border=\"1\" class=\"dataframe\">\n",
       "  <thead>\n",
       "    <tr style=\"text-align: right;\">\n",
       "      <th></th>\n",
       "      <th>bonus</th>\n",
       "      <th>deferral_payments</th>\n",
       "      <th>deferred_income</th>\n",
       "      <th>director_fees</th>\n",
       "      <th>exercised_stock_options</th>\n",
       "      <th>expenses</th>\n",
       "      <th>loan_advances</th>\n",
       "      <th>long_term_incentive</th>\n",
       "      <th>other</th>\n",
       "      <th>restricted_stock</th>\n",
       "      <th>restricted_stock_deferred</th>\n",
       "      <th>salary</th>\n",
       "      <th>total_payments</th>\n",
       "      <th>total_stock_value</th>\n",
       "      <th>TP_test</th>\n",
       "      <th>TSV_test</th>\n",
       "    </tr>\n",
       "  </thead>\n",
       "  <tbody>\n",
       "    <tr>\n",
       "      <th>BELFER ROBERT</th>\n",
       "      <td>0</td>\n",
       "      <td>-102500</td>\n",
       "      <td>0</td>\n",
       "      <td>3285</td>\n",
       "      <td>3285</td>\n",
       "      <td>0</td>\n",
       "      <td>0</td>\n",
       "      <td>0</td>\n",
       "      <td>0</td>\n",
       "      <td>0</td>\n",
       "      <td>44093</td>\n",
       "      <td>0</td>\n",
       "      <td>102500</td>\n",
       "      <td>-44093</td>\n",
       "      <td>201715</td>\n",
       "      <td>-91471</td>\n",
       "    </tr>\n",
       "  </tbody>\n",
       "</table>\n",
       "</div>"
      ],
      "text/plain": [
       "               bonus  deferral_payments  deferred_income  director_fees  \\\n",
       "BELFER ROBERT      0            -102500                0           3285   \n",
       "\n",
       "               exercised_stock_options  expenses  loan_advances  \\\n",
       "BELFER ROBERT                     3285         0              0   \n",
       "\n",
       "               long_term_incentive  other  restricted_stock  \\\n",
       "BELFER ROBERT                    0      0                 0   \n",
       "\n",
       "               restricted_stock_deferred  salary  total_payments  \\\n",
       "BELFER ROBERT                      44093       0          102500   \n",
       "\n",
       "               total_stock_value  TP_test  TSV_test  \n",
       "BELFER ROBERT             -44093   201715    -91471  "
      ]
     },
     "execution_count": 22,
     "metadata": {},
     "output_type": "execute_result"
    }
   ],
   "source": [
    "df[df.index == 'BELFER ROBERT'].drop(['poi','to_messages', \n",
    "'email_address', 'from_poi_to_this_person', 'from_messages', \n",
    "'from_this_person_to_poi', 'shared_receipt_with_poi'],axis=1)"
   ]
  },
  {
   "cell_type": "markdown",
   "metadata": {},
   "source": [
    "As with the previous person, the data for Belfer looks corrupted and will be manually corrected to match the PDF data."
   ]
  },
  {
   "cell_type": "code",
   "execution_count": 23,
   "metadata": {
    "collapsed": false
   },
   "outputs": [
    {
     "data": {
      "text/html": [
       "<div>\n",
       "<table border=\"1\" class=\"dataframe\">\n",
       "  <thead>\n",
       "    <tr style=\"text-align: right;\">\n",
       "      <th></th>\n",
       "      <th>bonus</th>\n",
       "      <th>deferral_payments</th>\n",
       "      <th>deferred_income</th>\n",
       "      <th>director_fees</th>\n",
       "      <th>exercised_stock_options</th>\n",
       "      <th>expenses</th>\n",
       "      <th>loan_advances</th>\n",
       "      <th>long_term_incentive</th>\n",
       "      <th>other</th>\n",
       "      <th>restricted_stock</th>\n",
       "      <th>restricted_stock_deferred</th>\n",
       "      <th>salary</th>\n",
       "      <th>total_payments</th>\n",
       "      <th>total_stock_value</th>\n",
       "      <th>TP_test</th>\n",
       "      <th>TSV_test</th>\n",
       "    </tr>\n",
       "  </thead>\n",
       "  <tbody>\n",
       "    <tr>\n",
       "      <th>BELFER ROBERT</th>\n",
       "      <td>0</td>\n",
       "      <td>0</td>\n",
       "      <td>-102500</td>\n",
       "      <td>102500</td>\n",
       "      <td>0</td>\n",
       "      <td>3285</td>\n",
       "      <td>0</td>\n",
       "      <td>0</td>\n",
       "      <td>0</td>\n",
       "      <td>44093</td>\n",
       "      <td>-44093</td>\n",
       "      <td>0</td>\n",
       "      <td>3285</td>\n",
       "      <td>0</td>\n",
       "      <td>0</td>\n",
       "      <td>0</td>\n",
       "    </tr>\n",
       "  </tbody>\n",
       "</table>\n",
       "</div>"
      ],
      "text/plain": [
       "               bonus  deferral_payments  deferred_income  director_fees  \\\n",
       "BELFER ROBERT      0                  0          -102500         102500   \n",
       "\n",
       "               exercised_stock_options  expenses  loan_advances  \\\n",
       "BELFER ROBERT                        0      3285              0   \n",
       "\n",
       "               long_term_incentive  other  restricted_stock  \\\n",
       "BELFER ROBERT                    0      0             44093   \n",
       "\n",
       "               restricted_stock_deferred  salary  total_payments  \\\n",
       "BELFER ROBERT                     -44093       0            3285   \n",
       "\n",
       "               total_stock_value  TP_test  TSV_test  \n",
       "BELFER ROBERT                  0        0         0  "
      ]
     },
     "execution_count": 23,
     "metadata": {},
     "output_type": "execute_result"
    }
   ],
   "source": [
    "# Manually correct erroneous data for Robert Belfer\n",
    "\n",
    "df.loc['BELFER ROBERT','deferral_payments'] = 0\n",
    "df.loc['BELFER ROBERT','deferred_income'] = -102500\n",
    "df.loc['BELFER ROBERT','director_fees'] = 102500\n",
    "df.loc['BELFER ROBERT','exercised_stock_options'] = 0\n",
    "df.loc['BELFER ROBERT','expenses'] = 3285\n",
    "df.loc['BELFER ROBERT','restricted_stock'] = 44093\n",
    "df.loc['BELFER ROBERT','restricted_stock_deferred'] = -44093\n",
    "df.loc['BELFER ROBERT','total_payments'] = 3285\n",
    "df.loc['BELFER ROBERT','total_stock_value'] = 0\n",
    "\n",
    "# Run the TP_test and TSV_test calculations again\n",
    "\n",
    "df['TP_test'] = df['total_payments']-(df['salary']+df['bonus']+df['long_term_incentive']+df['deferred_income']+\n",
    "df['deferral_payments']+df['loan_advances']+df['other']+df['expenses']+df['director_fees'])\n",
    "\n",
    "df['TSV_test'] = df['total_stock_value']-(df['exercised_stock_options']+df['restricted_stock']+\n",
    "                                          df['restricted_stock_deferred'])\n",
    "    \n",
    "# Confirm that Robert Belfer's data looks correct now\n",
    "    \n",
    "df[df.index == 'BELFER ROBERT'].drop(['poi','to_messages', \n",
    "'email_address', 'from_poi_to_this_person', 'from_messages', \n",
    "'from_this_person_to_poi', 'shared_receipt_with_poi'],axis=1)"
   ]
  },
  {
   "cell_type": "code",
   "execution_count": 24,
   "metadata": {
    "collapsed": false
   },
   "outputs": [
    {
     "name": "stdout",
     "output_type": "stream",
     "text": [
      "Value count for 'total_payment' test failing:\n",
      "Series([], Name: TP_test, dtype: int64)\n",
      "Value count for 'total_stock_value' test failing:\n",
      "Series([], Name: TSV_test, dtype: int64)\n"
     ]
    }
   ],
   "source": [
    "# Print the updated TP_test and TSV_test results\n",
    "\n",
    "print \"Value count for 'total_payment' test failing:\"\n",
    "print df['TP_test'][df['TP_test']!=0].value_counts()\n",
    "\n",
    "print \"Value count for 'total_stock_value' test failing:\"\n",
    "print df['TSV_test'][df['TSV_test']!=0].value_counts()"
   ]
  },
  {
   "cell_type": "markdown",
   "metadata": {},
   "source": [
    "All data points now pass the 'Total Payments' and 'Total Stock Value' tests. This concludes the outlier analysis portion."
   ]
  },
  {
   "cell_type": "markdown",
   "metadata": {},
   "source": [
    "### New Features\n",
    "\n",
    "In this section, I will consider several new features that I believe will be of value in predicting POIs. The first set of two new features relates to financial parameters:\n",
    "\n",
    "* total_payments / total_stock_value (label as TP_TSV_ratio): As discussed earlier, these two features encompass all the financial data. Taking the ratio provides a measurement of how much of an individual's compensation was paid in non-stock vs. stock payments, which could impact their behavior as it relates to short-term vs. long-term behavior.\n",
    "\n",
    "\n",
    "* (deferred_income + restricted_stock_deferred) / (total_payments + total_stock_value) (label as deferred_total_ratio): This feature will measure how much of an individual's compensation was electively deferred, relative to total compensation. If an individual chose to defer a large portion of their compensation, they might be more interested in the long-term performance of the company.\n",
    "\n",
    "The second set of two new features relates to email habits:\n",
    "\n",
    "* (from_this_person_to_poi / from_messages) (label as to_poi_ratio): measures the proportion of a person's sent email messages that went to POIs. It is possible that POIs communicated more frequently with each other. \n",
    "\n",
    "\n",
    "* (from_poi_to_this_person / to_messages) (label as from_poi_ratio): measures the proportion of a person's received email messages that came from POIs. It is possible that POIs communicated more frequently with each other. \n",
    "\n",
    "Before proceeding, I will replace the zero values in the dataframe with 'np.nan'. Zero values were useful for the various outlier checks, but now that I am moving forward with the POI identifier, I want to explicitly distinguish between missing values (i.e. NaN in the original data dictionary) and those values that are very close to zero (e.g. low salary, low bonus etc.). Further, since the synthetic features involve dividing, I want to avoid scenarios where I am dividing by zero."
   ]
  },
  {
   "cell_type": "code",
   "execution_count": 26,
   "metadata": {
    "collapsed": true
   },
   "outputs": [],
   "source": [
    "# Replace zeroes with NaN\n",
    "\n",
    "df.replace(0, np.nan, inplace = True)"
   ]
  },
  {
   "cell_type": "code",
   "execution_count": 27,
   "metadata": {
    "collapsed": false
   },
   "outputs": [],
   "source": [
    "# Encode the new features\n",
    "\n",
    "df['TP_TSV_ratio'] = df['total_payments'] / df['total_stock_value']\n",
    "\n",
    "df['deferred_total_ratio'] = df['deferred_income']+df['restricted_stock_deferred']/(\n",
    "    df['total_payments']+df['total_stock_value'])\n",
    "\n",
    "df['to_poi_ratio'] = df['from_this_person_to_poi'] / df['from_messages']\n",
    "\n",
    "df['from_poi_ratio'] = df['from_poi_to_this_person'] / df['to_messages']"
   ]
  },
  {
   "cell_type": "code",
   "execution_count": 28,
   "metadata": {
    "collapsed": false
   },
   "outputs": [
    {
     "name": "stdout",
     "output_type": "stream",
     "text": [
      "count    107.000000\n",
      "mean       2.171968\n",
      "std        5.095500\n",
      "min        0.000214\n",
      "25%        0.298346\n",
      "50%        0.872703\n",
      "75%        2.122813\n",
      "max       48.152302\n",
      "Name: TP_TSV_ratio, dtype: float64\n",
      "count    9.000000e+00\n",
      "mean    -7.266510e+05\n",
      "std      9.966219e+05\n",
      "min     -3.081055e+06\n",
      "25%     -9.344841e+05\n",
      "50%     -2.016411e+05\n",
      "75%     -3.333316e+04\n",
      "max     -5.104091e+03\n",
      "Name: deferred_total_ratio, dtype: float64\n",
      "count    66.000000\n",
      "mean      0.239830\n",
      "std       0.210767\n",
      "min       0.009302\n",
      "25%       0.054855\n",
      "50%       0.218968\n",
      "75%       0.341400\n",
      "max       1.000000\n",
      "Name: to_poi_ratio, dtype: float64\n",
      "count    74.000000\n",
      "mean      0.044119\n",
      "std       0.040481\n",
      "min       0.001068\n",
      "25%       0.016370\n",
      "50%       0.029580\n",
      "75%       0.059118\n",
      "max       0.217341\n",
      "Name: from_poi_ratio, dtype: float64\n"
     ]
    }
   ],
   "source": [
    "# Get statistics\n",
    "\n",
    "print df['TP_TSV_ratio'].describe()\n",
    "print df['deferred_total_ratio'].describe()\n",
    "print df['to_poi_ratio'].describe()\n",
    "print df['from_poi_ratio'].describe()"
   ]
  },
  {
   "cell_type": "markdown",
   "metadata": {},
   "source": [
    "The new features could not be calculated for all 144 people, owing to missing data. This problem is particularly stark for the 'deferred_total_ratio', where only 9 people had sufficient data to calculate a value (see above statistics). "
   ]
  },
  {
   "cell_type": "code",
   "execution_count": 29,
   "metadata": {
    "collapsed": false
   },
   "outputs": [
    {
     "data": {
      "text/plain": [
       "<matplotlib.text.Text at 0x117411f10>"
      ]
     },
     "execution_count": 29,
     "metadata": {},
     "output_type": "execute_result"
    },
    {
     "data": {
      "image/png": "[encoded data removed]",
      "text/plain": [
       "<matplotlib.figure.Figure at 0x116d8a990>"
      ]
     },
     "metadata": {},
     "output_type": "display_data"
    },
    {
     "data": {
      "image/png": "[encoded data removed]",
      "text/plain": [
       "<matplotlib.figure.Figure at 0x117286210>"
      ]
     },
     "metadata": {},
     "output_type": "display_data"
    }
   ],
   "source": [
    "# Examine the new features in 2D space\n",
    "\n",
    "# Financial Features\n",
    "\n",
    "g = sns.lmplot('TP_TSV_ratio', 'deferred_total_ratio', \n",
    "           data=df, \n",
    "           fit_reg=False, \n",
    "           hue='poi',\n",
    "           scatter_kws={\"marker\": \"D\", \n",
    "                        \"s\": 100})\n",
    "plt.title('Distribution of Synthetic Financial Data')\n",
    "plt.xlabel('TP_TSV_ratio')\n",
    "plt.ylabel('deferred_total_ratio')\n",
    "\n",
    "#g.set(ylim=(0, 1))\n",
    "#g.set(xlim=(0, 1))\n",
    "\n",
    "# Email Features\n",
    "\n",
    "g = sns.lmplot('to_poi_ratio', 'from_poi_ratio', \n",
    "           data=df, \n",
    "           fit_reg=False, \n",
    "           hue='poi',\n",
    "           scatter_kws={\"marker\": \"D\", \n",
    "                        \"s\": 100})\n",
    "plt.title('Distribution of Synthetic Email Data')\n",
    "plt.xlabel('to_poi_ratio')\n",
    "plt.ylabel('from_poi_ratio')\n",
    "\n",
    "#g.set(ylim=(0, 1))\n",
    "#g.set(xlim=(0, 1))"
   ]
  },
  {
   "cell_type": "markdown",
   "metadata": {},
   "source": [
    "It appears that all nine points with calculable 'deferred_total_ratio' values are non-POIs. This might be a useful feature for detecting a small set of true negatives. In regards to email habits, the POIs appear to have all clustered within a 'from_poi_ratio' range from 0.00 to 0.15 and a 'to_poi_ratio' band from 0.20 to 0.60. This clustering might mean that this feature will prove useful for identifying POIs."
   ]
  },
  {
   "cell_type": "markdown",
   "metadata": {},
   "source": [
    "### Dataframe to Dictionary\n",
    "\n",
    "I am going to drop the 'TP_test' and 'TSV_test' features from the dataframe, as they have served their outlier detection purposes. After that, I will convert the dataframe back to a dictionary format, for use in the machine learning steps."
   ]
  },
  {
   "cell_type": "code",
   "execution_count": 30,
   "metadata": {
    "collapsed": false
   },
   "outputs": [],
   "source": [
    "# drop TP_test and TSV_test\n",
    "\n",
    "df = df.drop(['TP_test', 'TSV_test'],axis=1)"
   ]
  },
  {
   "cell_type": "code",
   "execution_count": 31,
   "metadata": {
    "collapsed": false
   },
   "outputs": [
    {
     "data": {
      "text/html": [
       "<div>\n",
       "<table border=\"1\" class=\"dataframe\">\n",
       "  <thead>\n",
       "    <tr style=\"text-align: right;\">\n",
       "      <th></th>\n",
       "      <th>bonus</th>\n",
       "      <th>deferral_payments</th>\n",
       "      <th>deferred_income</th>\n",
       "      <th>director_fees</th>\n",
       "      <th>exercised_stock_options</th>\n",
       "      <th>expenses</th>\n",
       "      <th>from_messages</th>\n",
       "      <th>from_poi_to_this_person</th>\n",
       "      <th>from_this_person_to_poi</th>\n",
       "      <th>loan_advances</th>\n",
       "      <th>...</th>\n",
       "      <th>restricted_stock_deferred</th>\n",
       "      <th>salary</th>\n",
       "      <th>shared_receipt_with_poi</th>\n",
       "      <th>to_messages</th>\n",
       "      <th>total_payments</th>\n",
       "      <th>total_stock_value</th>\n",
       "      <th>TP_TSV_ratio</th>\n",
       "      <th>deferred_total_ratio</th>\n",
       "      <th>to_poi_ratio</th>\n",
       "      <th>from_poi_ratio</th>\n",
       "    </tr>\n",
       "  </thead>\n",
       "  <tbody>\n",
       "    <tr>\n",
       "      <th>count</th>\n",
       "      <td>8.100000e+01</td>\n",
       "      <td>3.700000e+01</td>\n",
       "      <td>4.900000e+01</td>\n",
       "      <td>15.000000</td>\n",
       "      <td>1.000000e+02</td>\n",
       "      <td>96.000000</td>\n",
       "      <td>86.000000</td>\n",
       "      <td>74.000000</td>\n",
       "      <td>66.000000</td>\n",
       "      <td>3.000000e+00</td>\n",
       "      <td>...</td>\n",
       "      <td>1.700000e+01</td>\n",
       "      <td>9.400000e+01</td>\n",
       "      <td>86.000000</td>\n",
       "      <td>86.000000</td>\n",
       "      <td>1.230000e+02</td>\n",
       "      <td>1.250000e+02</td>\n",
       "      <td>107.000000</td>\n",
       "      <td>9.000000e+00</td>\n",
       "      <td>66.000000</td>\n",
       "      <td>74.000000</td>\n",
       "    </tr>\n",
       "    <tr>\n",
       "      <th>mean</th>\n",
       "      <td>1.201773e+06</td>\n",
       "      <td>8.671188e+05</td>\n",
       "      <td>-5.712835e+05</td>\n",
       "      <td>93234.466667</td>\n",
       "      <td>3.117640e+06</td>\n",
       "      <td>54533.312500</td>\n",
       "      <td>608.790698</td>\n",
       "      <td>75.418919</td>\n",
       "      <td>53.727273</td>\n",
       "      <td>2.797500e+07</td>\n",
       "      <td>...</td>\n",
       "      <td>-4.456934e+05</td>\n",
       "      <td>2.840875e+05</td>\n",
       "      <td>1176.465116</td>\n",
       "      <td>2073.860465</td>\n",
       "      <td>2.516459e+06</td>\n",
       "      <td>3.476076e+06</td>\n",
       "      <td>2.171968</td>\n",
       "      <td>-7.266510e+05</td>\n",
       "      <td>0.239830</td>\n",
       "      <td>0.044119</td>\n",
       "    </tr>\n",
       "    <tr>\n",
       "      <th>std</th>\n",
       "      <td>1.441679e+06</td>\n",
       "      <td>1.297344e+06</td>\n",
       "      <td>9.347149e+05</td>\n",
       "      <td>33320.075521</td>\n",
       "      <td>5.657924e+06</td>\n",
       "      <td>46712.751852</td>\n",
       "      <td>1841.033949</td>\n",
       "      <td>89.467681</td>\n",
       "      <td>111.420002</td>\n",
       "      <td>4.638256e+07</td>\n",
       "      <td>...</td>\n",
       "      <td>6.934388e+05</td>\n",
       "      <td>1.771311e+05</td>\n",
       "      <td>1178.317641</td>\n",
       "      <td>2582.700981</td>\n",
       "      <td>9.455875e+06</td>\n",
       "      <td>6.614499e+06</td>\n",
       "      <td>5.095500</td>\n",
       "      <td>9.966219e+05</td>\n",
       "      <td>0.210767</td>\n",
       "      <td>0.040481</td>\n",
       "    </tr>\n",
       "    <tr>\n",
       "      <th>min</th>\n",
       "      <td>7.000000e+04</td>\n",
       "      <td>7.961000e+03</td>\n",
       "      <td>-3.504386e+06</td>\n",
       "      <td>17500.000000</td>\n",
       "      <td>9.803000e+03</td>\n",
       "      <td>148.000000</td>\n",
       "      <td>12.000000</td>\n",
       "      <td>1.000000</td>\n",
       "      <td>1.000000</td>\n",
       "      <td>4.000000e+05</td>\n",
       "      <td>...</td>\n",
       "      <td>-2.604490e+06</td>\n",
       "      <td>4.770000e+02</td>\n",
       "      <td>2.000000</td>\n",
       "      <td>57.000000</td>\n",
       "      <td>1.480000e+02</td>\n",
       "      <td>2.879800e+04</td>\n",
       "      <td>0.000214</td>\n",
       "      <td>-3.081055e+06</td>\n",
       "      <td>0.009302</td>\n",
       "      <td>0.001068</td>\n",
       "    </tr>\n",
       "    <tr>\n",
       "      <th>25%</th>\n",
       "      <td>4.250000e+05</td>\n",
       "      <td>8.543000e+04</td>\n",
       "      <td>-5.833250e+05</td>\n",
       "      <td>100017.000000</td>\n",
       "      <td>5.701288e+05</td>\n",
       "      <td>22140.500000</td>\n",
       "      <td>22.750000</td>\n",
       "      <td>20.500000</td>\n",
       "      <td>6.000000</td>\n",
       "      <td>1.200000e+06</td>\n",
       "      <td>...</td>\n",
       "      <td>-4.095540e+05</td>\n",
       "      <td>2.118020e+05</td>\n",
       "      <td>249.750000</td>\n",
       "      <td>541.250000</td>\n",
       "      <td>3.773875e+05</td>\n",
       "      <td>4.956330e+05</td>\n",
       "      <td>0.298346</td>\n",
       "      <td>-9.344841e+05</td>\n",
       "      <td>0.054855</td>\n",
       "      <td>0.016370</td>\n",
       "    </tr>\n",
       "    <tr>\n",
       "      <th>50%</th>\n",
       "      <td>7.500000e+05</td>\n",
       "      <td>2.274490e+05</td>\n",
       "      <td>-1.440620e+05</td>\n",
       "      <td>103750.000000</td>\n",
       "      <td>1.310814e+06</td>\n",
       "      <td>46547.500000</td>\n",
       "      <td>41.000000</td>\n",
       "      <td>40.500000</td>\n",
       "      <td>15.000000</td>\n",
       "      <td>2.000000e+06</td>\n",
       "      <td>...</td>\n",
       "      <td>-1.536860e+05</td>\n",
       "      <td>2.587410e+05</td>\n",
       "      <td>740.500000</td>\n",
       "      <td>1211.000000</td>\n",
       "      <td>1.099100e+06</td>\n",
       "      <td>1.110705e+06</td>\n",
       "      <td>0.872703</td>\n",
       "      <td>-2.016411e+05</td>\n",
       "      <td>0.218968</td>\n",
       "      <td>0.029580</td>\n",
       "    </tr>\n",
       "    <tr>\n",
       "      <th>75%</th>\n",
       "      <td>1.200000e+06</td>\n",
       "      <td>8.753070e+05</td>\n",
       "      <td>-3.834600e+04</td>\n",
       "      <td>110895.000000</td>\n",
       "      <td>2.544450e+06</td>\n",
       "      <td>79252.250000</td>\n",
       "      <td>145.500000</td>\n",
       "      <td>93.500000</td>\n",
       "      <td>37.750000</td>\n",
       "      <td>4.176250e+07</td>\n",
       "      <td>...</td>\n",
       "      <td>-8.278200e+04</td>\n",
       "      <td>3.086065e+05</td>\n",
       "      <td>1888.250000</td>\n",
       "      <td>2634.750000</td>\n",
       "      <td>2.064694e+06</td>\n",
       "      <td>3.064208e+06</td>\n",
       "      <td>2.122813</td>\n",
       "      <td>-3.333316e+04</td>\n",
       "      <td>0.341400</td>\n",
       "      <td>0.059118</td>\n",
       "    </tr>\n",
       "    <tr>\n",
       "      <th>max</th>\n",
       "      <td>8.000000e+06</td>\n",
       "      <td>6.426990e+06</td>\n",
       "      <td>-8.330000e+02</td>\n",
       "      <td>125034.000000</td>\n",
       "      <td>3.434838e+07</td>\n",
       "      <td>228763.000000</td>\n",
       "      <td>14368.000000</td>\n",
       "      <td>528.000000</td>\n",
       "      <td>609.000000</td>\n",
       "      <td>8.152500e+07</td>\n",
       "      <td>...</td>\n",
       "      <td>-3.246000e+04</td>\n",
       "      <td>1.111258e+06</td>\n",
       "      <td>5521.000000</td>\n",
       "      <td>15149.000000</td>\n",
       "      <td>1.035598e+08</td>\n",
       "      <td>4.911008e+07</td>\n",
       "      <td>48.152302</td>\n",
       "      <td>-5.104091e+03</td>\n",
       "      <td>1.000000</td>\n",
       "      <td>0.217341</td>\n",
       "    </tr>\n",
       "  </tbody>\n",
       "</table>\n",
       "<p>8 rows × 23 columns</p>\n",
       "</div>"
      ],
      "text/plain": [
       "              bonus  deferral_payments  deferred_income  director_fees  \\\n",
       "count  8.100000e+01       3.700000e+01     4.900000e+01      15.000000   \n",
       "mean   1.201773e+06       8.671188e+05    -5.712835e+05   93234.466667   \n",
       "std    1.441679e+06       1.297344e+06     9.347149e+05   33320.075521   \n",
       "min    7.000000e+04       7.961000e+03    -3.504386e+06   17500.000000   \n",
       "25%    4.250000e+05       8.543000e+04    -5.833250e+05  100017.000000   \n",
       "50%    7.500000e+05       2.274490e+05    -1.440620e+05  103750.000000   \n",
       "75%    1.200000e+06       8.753070e+05    -3.834600e+04  110895.000000   \n",
       "max    8.000000e+06       6.426990e+06    -8.330000e+02  125034.000000   \n",
       "\n",
       "       exercised_stock_options       expenses  from_messages  \\\n",
       "count             1.000000e+02      96.000000      86.000000   \n",
       "mean              3.117640e+06   54533.312500     608.790698   \n",
       "std               5.657924e+06   46712.751852    1841.033949   \n",
       "min               9.803000e+03     148.000000      12.000000   \n",
       "25%               5.701288e+05   22140.500000      22.750000   \n",
       "50%               1.310814e+06   46547.500000      41.000000   \n",
       "75%               2.544450e+06   79252.250000     145.500000   \n",
       "max               3.434838e+07  228763.000000   14368.000000   \n",
       "\n",
       "       from_poi_to_this_person  from_this_person_to_poi  loan_advances  \\\n",
       "count                74.000000                66.000000   3.000000e+00   \n",
       "mean                 75.418919                53.727273   2.797500e+07   \n",
       "std                  89.467681               111.420002   4.638256e+07   \n",
       "min                   1.000000                 1.000000   4.000000e+05   \n",
       "25%                  20.500000                 6.000000   1.200000e+06   \n",
       "50%                  40.500000                15.000000   2.000000e+06   \n",
       "75%                  93.500000                37.750000   4.176250e+07   \n",
       "max                 528.000000               609.000000   8.152500e+07   \n",
       "\n",
       "            ...        restricted_stock_deferred        salary  \\\n",
       "count       ...                     1.700000e+01  9.400000e+01   \n",
       "mean        ...                    -4.456934e+05  2.840875e+05   \n",
       "std         ...                     6.934388e+05  1.771311e+05   \n",
       "min         ...                    -2.604490e+06  4.770000e+02   \n",
       "25%         ...                    -4.095540e+05  2.118020e+05   \n",
       "50%         ...                    -1.536860e+05  2.587410e+05   \n",
       "75%         ...                    -8.278200e+04  3.086065e+05   \n",
       "max         ...                    -3.246000e+04  1.111258e+06   \n",
       "\n",
       "       shared_receipt_with_poi   to_messages  total_payments  \\\n",
       "count                86.000000     86.000000    1.230000e+02   \n",
       "mean               1176.465116   2073.860465    2.516459e+06   \n",
       "std                1178.317641   2582.700981    9.455875e+06   \n",
       "min                   2.000000     57.000000    1.480000e+02   \n",
       "25%                 249.750000    541.250000    3.773875e+05   \n",
       "50%                 740.500000   1211.000000    1.099100e+06   \n",
       "75%                1888.250000   2634.750000    2.064694e+06   \n",
       "max                5521.000000  15149.000000    1.035598e+08   \n",
       "\n",
       "       total_stock_value  TP_TSV_ratio  deferred_total_ratio  to_poi_ratio  \\\n",
       "count       1.250000e+02    107.000000          9.000000e+00     66.000000   \n",
       "mean        3.476076e+06      2.171968         -7.266510e+05      0.239830   \n",
       "std         6.614499e+06      5.095500          9.966219e+05      0.210767   \n",
       "min         2.879800e+04      0.000214         -3.081055e+06      0.009302   \n",
       "25%         4.956330e+05      0.298346         -9.344841e+05      0.054855   \n",
       "50%         1.110705e+06      0.872703         -2.016411e+05      0.218968   \n",
       "75%         3.064208e+06      2.122813         -3.333316e+04      0.341400   \n",
       "max         4.911008e+07     48.152302         -5.104091e+03      1.000000   \n",
       "\n",
       "       from_poi_ratio  \n",
       "count       74.000000  \n",
       "mean         0.044119  \n",
       "std          0.040481  \n",
       "min          0.001068  \n",
       "25%          0.016370  \n",
       "50%          0.029580  \n",
       "75%          0.059118  \n",
       "max          0.217341  \n",
       "\n",
       "[8 rows x 23 columns]"
      ]
     },
     "execution_count": 31,
     "metadata": {},
     "output_type": "execute_result"
    }
   ],
   "source": [
    "# Feature magnitudes, for informational purposes\n",
    "\n",
    "df.describe()"
   ]
  },
  {
   "cell_type": "code",
   "execution_count": 32,
   "metadata": {
    "collapsed": false
   },
   "outputs": [],
   "source": [
    "# Replace np.nan with NaN (for compatibility with feature_format.py)\n",
    "\n",
    "df.replace(np.nan, 'NaN', inplace = True)\n",
    "\n",
    "# create a dictionary from the dataframe\n",
    "df_dict = df.to_dict('index')\n"
   ]
  },
  {
   "cell_type": "code",
   "execution_count": 33,
   "metadata": {
    "collapsed": false
   },
   "outputs": [
    {
     "name": "stdout",
     "output_type": "stream",
     "text": [
      "{'to_messages': 3627.0, 'deferral_payments': 'NaN', 'deferred_total_ratio': 'NaN', 'expenses': 29336.0, 'poi': True, 'long_term_incentive': 1920000.0, 'email_address': 'jeff.skilling@enron.com', 'from_poi_to_this_person': 88.0, 'deferred_income': 'NaN', 'TP_TSV_ratio': 0.3327517874831875, 'restricted_stock_deferred': 'NaN', 'shared_receipt_with_poi': 2042.0, 'loan_advances': 'NaN', 'from_messages': 108.0, 'other': 22122.0, 'to_poi_ratio': 0.2777777777777778, 'director_fees': 'NaN', 'bonus': 5600000.0, 'total_stock_value': 26093672.0, 'from_this_person_to_poi': 30.0, 'from_poi_ratio': 0.0242624758753791, 'restricted_stock': 6843672.0, 'salary': 1111258.0, 'total_payments': 8682716.0, 'exercised_stock_options': 19250000.0}\n"
     ]
    }
   ],
   "source": [
    "# Confirm that updated dictionary contains new features\n",
    "\n",
    "print df_dict[\"SKILLING JEFFREY K\"]"
   ]
  },
  {
   "cell_type": "markdown",
   "metadata": {},
   "source": [
    "### Feature Selection\n",
    "\n",
    "The features_list contains the features that will be fed to the machine learning algorithm. This list allows me to manually remove features. Since I will be building automatic feature selection into the machine learning optimization process, there is little need for any manual adjustment here. The lone exception was the removal of 'email_address' from the full feature_list, since for the direction I took (which was not to analyse email text), the 'email_address' serves no purpose."
   ]
  },
  {
   "cell_type": "code",
   "execution_count": 35,
   "metadata": {
    "collapsed": false
   },
   "outputs": [
    {
     "name": "stdout",
     "output_type": "stream",
     "text": [
      "Net data set size (# people): 143\n"
     ]
    }
   ],
   "source": [
    "# Store modified dictionary to my_dataset for easy export below.\n",
    "\n",
    "my_dataset = df_dict\n",
    "\n",
    "# Full features list, for informational / copying purposes\n",
    "\n",
    "'''\n",
    "features_list = ['poi','salary', 'deferral_payments', 'total_payments', \n",
    "'loan_advances', 'bonus', 'restricted_stock_deferred', 'deferred_income', \n",
    "'total_stock_value', 'expenses', 'exercised_stock_options', 'other','email_address',\n",
    "'long_term_incentive', 'restricted_stock', 'director_fees','to_messages',\n",
    "'from_poi_to_this_person', 'from_messages','from_this_person_to_poi', \n",
    "'shared_receipt_with_poi','to_poi_ratio','from_poi_ratio','TP_TSV_ratio','deferred_total_ratio']\n",
    "'''\n",
    "\n",
    "# Used features lists\n",
    "# CRITICAL that 'poi' is listed 1st in 'features_list' (see feature_format.py)\n",
    "\n",
    "# features_list lets me test the results including the four new features\n",
    "# excluded features: email_address\n",
    "\n",
    "features_list = ['poi','salary', 'deferral_payments', 'total_payments', \n",
    "'loan_advances', 'bonus', 'restricted_stock_deferred', 'deferred_income', \n",
    "'total_stock_value', 'expenses', 'exercised_stock_options', 'other',\n",
    "'long_term_incentive', 'restricted_stock', 'director_fees','to_messages',\n",
    "'from_poi_to_this_person', 'from_messages','from_this_person_to_poi', \n",
    "'shared_receipt_with_poi','to_poi_ratio','from_poi_ratio','TP_TSV_ratio',\n",
    "'deferred_total_ratio']\n",
    "\n",
    "# features_list_minus_new lets me test the results if the new features are excluded\n",
    "# excluded features: email_address,'to_poi_ratio','from_poi_ratio','TP_TSV_ratio','deferred_total_ratio'\n",
    "\n",
    "features_list_minus_new = ['poi','salary', 'deferral_payments', 'total_payments', \n",
    "'loan_advances', 'bonus', 'restricted_stock_deferred', 'deferred_income', \n",
    "'total_stock_value', 'expenses', 'exercised_stock_options', 'other',\n",
    "'long_term_incentive', 'restricted_stock', 'director_fees','to_messages',\n",
    "'from_poi_to_this_person', 'from_messages','from_this_person_to_poi', \n",
    "'shared_receipt_with_poi']\n",
    "\n",
    "# Extract features and labels from dataset for local testing\n",
    "data = featureFormat(my_dataset, features_list, sort_keys = True)\n",
    "\n",
    "# Uncomment the line below to test performance minus new features:\n",
    "#data = featureFormat(my_dataset, features_list_minus_new, sort_keys = True)\n",
    "\n",
    "labels, features = targetFeatureSplit(data)\n",
    "\n",
    "# Count number of people in data set\n",
    "# 'targetFeatureSplit' nets out those dropped due to all zeroes\n",
    "\n",
    "print \"Net data set size (# people):\",len(labels)"
   ]
  },
  {
   "cell_type": "markdown",
   "metadata": {},
   "source": [
    "The process of getting the labels and features into a suitable form includes the option to drop points with all zero (or all NaN) values. I have used this option, and the above row shows that doing so resulted in one person being dropped (144 became 143)."
   ]
  },
  {
   "cell_type": "markdown",
   "metadata": {},
   "source": [
    "### Machine Learning Algorithms - First Pass with Default Settings\n",
    "\n",
    "Now that the data has been explored, cleaned and put into a suitable form for the sklearn algorithms, it is time to build a POI identifier. The first step will be to test a variety of classifiers to get a feel for whether any stand out as candidates worth further investigation. After this step, the final classifier(s) will be optimized for the task at hand.\n",
    "\n",
    "For both of these steps, I will be measuring the time it takes to train/test/fit/predict a given algorithm, since the development and run time is one of the factors that should be taken into account when choosing a model."
   ]
  },
  {
   "cell_type": "code",
   "execution_count": 36,
   "metadata": {
    "collapsed": false
   },
   "outputs": [
    {
     "name": "stdout",
     "output_type": "stream",
     "text": [
      "             precision    recall  f1-score   support\n",
      "\n",
      "        0.0       0.92      0.89      0.91        38\n",
      "        1.0       0.33      0.40      0.36         5\n",
      "\n",
      "avg / total       0.85      0.84      0.84        43\n",
      "\n",
      "total train/test/prediction time: 0.003 s\n"
     ]
    }
   ],
   "source": [
    "# Import the desired classifiers, splitters, metrics etc.\n",
    "\n",
    "from sklearn.naive_bayes import GaussianNB\n",
    "from sklearn.svm import SVC\n",
    "from sklearn.tree import DecisionTreeClassifier\n",
    "from sklearn.neighbors import KNeighborsClassifier\n",
    "from sklearn.ensemble import RandomForestClassifier,AdaBoostClassifier,GradientBoostingClassifier\n",
    "\n",
    "from sklearn.cross_validation import train_test_split\n",
    "from sklearn.metrics import classification_report\n",
    "\n",
    "from time import time\n",
    "\n",
    "# All classifiers are named clf for compatibility with tester.py\n",
    "# Comment out ('#') all classifiers other than the desired one\n",
    "\n",
    "#clf = GaussianNB()\n",
    "clf = DecisionTreeClassifier(random_state=42)\n",
    "#clf = SVC(random_state=42)\n",
    "#clf = KNeighborsClassifier()\n",
    "#clf = RandomForestClassifier(random_state=42)\n",
    "#clf = GradientBoostingClassifier(random_state=42)\n",
    "#clf = AdaBoostClassifier(random_state=42)\n",
    "\n",
    "# Split data into training and testing sets, using 30% split\n",
    "\n",
    "t0 = time()\n",
    "\n",
    "features_train, features_test, labels_train, labels_test = \\\n",
    "    train_test_split(features, labels, test_size=0.3, random_state=42)\n",
    "    \n",
    "clf.fit(features_train,labels_train)\n",
    "labels_pred = clf.predict(features_test)\n",
    "\n",
    "print classification_report(labels_test, labels_pred)\n",
    "\n",
    "print \"total train/test/prediction time:\", round(time()-t0, 3), \"s\""
   ]
  },
  {
   "cell_type": "markdown",
   "metadata": {},
   "source": [
    "#### First Pass Results:\n",
    "\n",
    "The project requires that the final algorithm exceeds 0.3 in both precision and recall, so these two metrics are a critical part of the model evaluation process. The following results were achieved for each of the 7 algorithms tested, under two scenarios. In the first scenario, the four new features were excluded. In the second scenario, they were included: \n",
    "\n",
    "| Algorithm | New Features Included? | Precision | Recall | F1 Score | Runtime (ms) |\n",
    "|------|------|\n",
    "| GaussianNB (GNB) | No | 0.50 | 0.40 | 0.44 | 3 | \n",
    "| DecisionTreeClassifier (DTC) | No | 0.00 | 0.00 | 0.00 | 3 |\n",
    "| SupportVectorClassifier (SVC) | No | 0.00 | 0.00 | 0.00 | 3 |\n",
    "| KNeighborsClassifier (KNN) | No | 0.00 | 0.00 | 0.00 | 4 |\n",
    "| RandomForestClassifier (RFC) | No | 0.50 | 0.20 | 0.29 | 44 |\n",
    "| GradientBoostingClassifier (GBC) | No | 0.25 | 0.20 | 0.22 | 67 |\n",
    "| AdaBoostClassifier (ABC) | No | 0.17 | 0.20 | 0.18 | 130 |\n",
    "| GaussianNB (GNB) | Yes | 0.14 | 0.80 | 0.24 | 3 | \n",
    "| DecisionTreeClassifier (DTC) | Yes | 0.33 | 0.40 | 0.36 | 3 |\n",
    "| SupportVectorClassifier (SVC) | Yes | 0.00 | 0.00 | 0.00 | 3 |\n",
    "| KNeighborsClassifier (KNN) | Yes | 0.00 | 0.00 | 0.00 | 4 |\n",
    "| RandomForestClassifier (RFC) | Yes | 1.00 | 0.20 | 0.33 | 44 |\n",
    "| GradientBoostingClassifier (GBC) | Yes | 0.25 | 0.20 | 0.22 | 74 |\n",
    "| AdaBoostClassifier (ABC) | Yes | 0.20 | 0.20 | 0.20 | 135 |"
   ]
  },
  {
   "cell_type": "markdown",
   "metadata": {},
   "source": [
    "The following key observations were made when comparing the effect of excluding or including the new features:\n",
    "\n",
    "* Including the new features __**improved**__ the first pass results for the following algorithms:\n",
    "    * DTC\n",
    "    * RFC\n",
    "    * ABC\n",
    "    \n",
    "* Including the new features had __**no impact**__ on the first pass results for the following algorithms:\n",
    "    * SVC\n",
    "    * KNN\n",
    "    * GBC\n",
    "    \n",
    "* Including the new features __**worsened**__ the first pass results for the following algorithms:\n",
    "    * GNB\n",
    "    \n",
    "So for the most part, the new features either improve or have no impact on the first pass results for the algorithms of interest. In addition, the one algorithm that was worsened by including the new features (GNB) has very few tuning parameters and therefore is not nearly as interesting to me for the validation, tuning and optimization portion of the project. Based on these results, I will proceed with a features_list that includes the four new features."
   ]
  },
  {
   "cell_type": "markdown",
   "metadata": {},
   "source": [
    "The following key observations were made from these initial results, under the scenario where the new features were included:\n",
    "\n",
    "* DTC was the only algorithm to achieve the desired 0.3 threshold on precision and recall with this basic model. It also has a very short runtime compared to other promising candidates and hence will definitely proceed to the next stage.\n",
    "\n",
    "\n",
    "* SVC and KNN failed to correctly identify any POIs, with precision and recall values of 0.00. This does not mean that they might not work well if optimized later, but since I plan on moving forward with a small subset of algorithms (possibly only 1), they will not be selected, given other algorithms showed promise.\n",
    "\n",
    "\n",
    "* The runtimes on RFC, GBC and ABC were orders of magnitude longer than the more simple algorithms. This is not a problem at this stage, but could become an issue as model complexity expands during the cross validation stage of the project."
   ]
  },
  {
   "cell_type": "code",
   "execution_count": 37,
   "metadata": {
    "collapsed": true
   },
   "outputs": [],
   "source": [
    "# Dump classifer and data for checking via tester.py\n",
    "\n",
    "dump_classifier_and_data(clf, my_dataset, features_list)"
   ]
  },
  {
   "cell_type": "markdown",
   "metadata": {},
   "source": [
    "After running the DTC classifier along with the selected features and dataset (clf, features_list, my_dataset), the following results were achieved via tester.py:\n",
    "\n",
    "* Precision = 0.29874\n",
    "* Recall = 0.29650\n",
    "\n",
    "Therefore, a standard DTC model is close to achieving the project requirements. Based on these results, I will proceed with the optimization of the DTC model, since the advantage in runtime over RFC, GBC and ABC is a compelling advantage for speedily completing the development work. If I am unable to achieve satisfactory results with DTC, then I will consider the other models for further development."
   ]
  },
  {
   "cell_type": "markdown",
   "metadata": {},
   "source": [
    "### Machine Learning Algorithm - Optimization via Feature Selection and Cross Validation\n",
    "\n",
    "The final step in the project is to optimize the classifier for improved precision  and recall results. Since the F1 score combines precision and recall, it was used as the optimization target, with the expectation that higher F1s would correspond to better precision / recall combinations. In order to efficiently optimize the classifier, Pipelines (see http://scikit-learn.org/stable/modules/pipeline.html) was used. Doing so allows feature selection, principal component analysis (PCA), model fitting and cross validation to be done in union.\n",
    "\n",
    "The code below was built to allow lots of flexibility when testing and optimizing the classifier. Code that is commented out was used (and should be kept as part of the project record) but ultimately not included in the submitted algorithm. Please refer to the project report for details on the sequence of steps taken to arrive at the submitted model."
   ]
  },
  {
   "cell_type": "code",
   "execution_count": 38,
   "metadata": {
    "collapsed": false
   },
   "outputs": [
    {
     "name": "stdout",
     "output_type": "stream",
     "text": [
      "model build and validation time: 0.537 s\n",
      "\n",
      "\n",
      "Best F1 score: 0.492\n",
      "\n",
      "\n",
      "Best Parameters:\n",
      "\n",
      "\n",
      "{'algo__class_weight': 'balanced', 'algo__min_samples_split': 10, 'select__k': 23, 'algo__splitter': 'random', 'algo__max_depth': 4, 'algo__criterion': 'gini', 'algo__min_samples_leaf': 1, 'algo__max_leaf_nodes': 8}\n",
      "\n",
      "\n"
     ]
    }
   ],
   "source": [
    "# This code block was used to optimize the model\n",
    "# Various pipe components were commented / uncommented to test their effects\n",
    "# The process and interim results are discussed in the accompanying report\n",
    "\n",
    "# Import the necessary libaries\n",
    "\n",
    "from sklearn.pipeline import make_pipeline, Pipeline, FeatureUnion\n",
    "from sklearn.decomposition import PCA\n",
    "from sklearn.feature_selection import SelectKBest,f_classif\n",
    "from sklearn.preprocessing import MinMaxScaler\n",
    "from sklearn.cross_validation import StratifiedShuffleSplit\n",
    "from sklearn.grid_search import GridSearchCV\n",
    "\n",
    "t0 = time()\n",
    "\n",
    "# Build estimator from PCA and Univariate selection:\n",
    "\n",
    "#combined_features = FeatureUnion([('pca', PCA()), ('select', SelectKBest())])\n",
    "\n",
    "# Use combined features to transform dataset:\n",
    "\n",
    "#X_features = combined_features.fit(features,labels).transform(features)\n",
    "\n",
    "# Piping: combine scaling, feature selection, PCA and classification\n",
    "# into a single pipeline\n",
    "\n",
    "algo = DecisionTreeClassifier(random_state=42)\n",
    "\n",
    "pipe = Pipeline([\n",
    "#        ('scaler',MinMaxScaler()),\n",
    "        ('select',SelectKBest()),\n",
    "#                 ('reduce_dim', PCA()),\n",
    "#        ('features',combined_features),\n",
    "                 ('algo',algo)\n",
    "    ])\n",
    "\n",
    "# Cross Validation - choose parameters that maximize the F1 score\n",
    "\n",
    "# Parameter grid\n",
    "\n",
    "para = {\n",
    "    'select__k':[23],\n",
    "#    'select__k':np.arange(22,24),\n",
    "#    'reduce_dim__n_components':np.arange(1,15),\n",
    "#    'features__pca__n_components':[1, 2, 3],\n",
    "#    'features__select__k':np.arange(1,24),\n",
    "    'algo__criterion': [\"gini\"],\n",
    "#    'algo__criterion': [\"gini\",\"entropy\"],\n",
    "    'algo__min_samples_split': [10],\n",
    "#    'algo__min_samples_split': [2, 10, 20],\n",
    "#    'algo__min_samples_split': np.arange(5,8),\n",
    "    'algo__max_depth': [4],\n",
    "#    'algo__max_depth': [None, 2, 5, 10],\n",
    "#    'algo__max_depth': np.arange(4, 7),\n",
    "    'algo__min_samples_leaf': [1],\n",
    "#    'algo__min_samples_leaf': [1, 5, 10],\n",
    "#    'algo__min_samples_leaf': np.arange(1,3),\n",
    "    'algo__class_weight':[\"balanced\"],\n",
    "#    'algo__class_weight':[\"balanced\",None],\n",
    "    'algo__max_leaf_nodes':[8],\n",
    "#    'algo__max_leaf_nodes':np.arange(7,11),\n",
    "    'algo__splitter': [\"random\"]\n",
    "#    'algo__splitter': [\"best\",\"random\"]\n",
    "       }\n",
    "\n",
    "# Because of the small size of the dataset, use stratified shuffle split cross validation\n",
    "# I found that 50 splits provided scores that closely matched the tester.py results and also\n",
    "# kept runtimes to relatively reasonable durations\n",
    "\n",
    "sss = StratifiedShuffleSplit(labels, 50, random_state = 42)\n",
    "cv_clf = GridSearchCV(pipe,param_grid=para, cv = sss, scoring='f1')\n",
    "cv_clf.fit(features,labels)\n",
    "clf = cv_clf.best_estimator_\n",
    "\n",
    "print \"model build and validation time:\", round(time()-t0, 3), \"s\"\n",
    "print '\\n'\n",
    "print \"Best F1 score: %0.3f\" % cv_clf.best_score_\n",
    "print '\\n'\n",
    "print \"Best Parameters:\"\n",
    "print '\\n'\n",
    "print cv_clf.best_params_\n",
    "print '\\n'"
   ]
  },
  {
   "cell_type": "code",
   "execution_count": 39,
   "metadata": {
    "collapsed": true
   },
   "outputs": [],
   "source": [
    "# Dump classifer and data for checking the current model via tester.py\n",
    "\n",
    "dump_classifier_and_data(clf, my_dataset, features_list)"
   ]
  },
  {
   "cell_type": "code",
   "execution_count": 40,
   "metadata": {
    "collapsed": false
   },
   "outputs": [
    {
     "name": "stdout",
     "output_type": "stream",
     "text": [
      "                           KBest_Score\n",
      "total_stock_value            22.510549\n",
      "exercised_stock_options      22.348975\n",
      "bonus                        20.792252\n",
      "salary                       18.289684\n",
      "to_poi_ratio                 16.409713\n",
      "deferred_income              11.424891\n",
      "long_term_incentive           9.922186\n",
      "total_payments                9.283874\n",
      "restricted_stock              8.825442\n",
      "shared_receipt_with_poi       8.589421\n",
      "loan_advances                 7.184056\n",
      "expenses                      5.418900\n",
      "from_poi_to_this_person       5.243450\n",
      "other                         4.202436\n",
      "from_poi_ratio                3.128092\n",
      "from_this_person_to_poi       2.382612\n",
      "director_fees                 2.131484\n",
      "to_messages                   1.646341\n",
      "restricted_stock_deferred     0.768146\n",
      "TP_TSV_ratio                  0.605429\n",
      "deferred_total_ratio          0.491475\n",
      "deferral_payments             0.228860\n",
      "from_messages                 0.169701\n"
     ]
    }
   ],
   "source": [
    "# Extract SelectKBest Features and Scores\n",
    "\n",
    "K_scores = clf.named_steps['select'].scores_\n",
    "feature_used = clf.named_steps['select'].get_support()\n",
    "\n",
    "Net_K_scores = K_scores * feature_used\n",
    "\n",
    "scores=[]\n",
    "features_k=[]\n",
    "i = 0\n",
    "while i < len(K_scores):\n",
    "    if Net_K_scores[i] > 0:\n",
    "        scores.append(K_scores[i])\n",
    "        features_k.append(features_list[i+1]) #+1 to account for 'poi' as 1st on 'features_list'\n",
    "        i += 1\n",
    "    else:\n",
    "        i += 1\n",
    "        \n",
    "KB_scores = np.column_stack((features_k,scores))\n",
    "\n",
    "T1 = KB_scores[0:,1]\n",
    "\n",
    "T2=[]\n",
    "for string in T1:\n",
    "    num = float(string)\n",
    "    T2.append(num)\n",
    "    \n",
    "KBest_scores_DF = pd.DataFrame(data = T2, index = KB_scores[0:,0])\n",
    "KBest_scores_DF.columns = ['KBest_Score']\n",
    "print KBest_scores_DF.sort_values('KBest_Score',ascending=False)"
   ]
  },
  {
   "cell_type": "code",
   "execution_count": 41,
   "metadata": {
    "collapsed": false
   },
   "outputs": [
    {
     "name": "stdout",
     "output_type": "stream",
     "text": [
      "                           Feature_Importance\n",
      "to_poi_ratio                         0.518960\n",
      "restricted_stock                     0.174142\n",
      "total_stock_value                    0.111818\n",
      "TP_TSV_ratio                         0.101889\n",
      "to_messages                          0.061206\n",
      "restricted_stock_deferred            0.031985\n",
      "salary                               0.000000\n",
      "director_fees                        0.000000\n",
      "from_poi_ratio                       0.000000\n",
      "shared_receipt_with_poi              0.000000\n",
      "from_this_person_to_poi              0.000000\n",
      "from_messages                        0.000000\n",
      "from_poi_to_this_person              0.000000\n",
      "long_term_incentive                  0.000000\n",
      "deferral_payments                    0.000000\n",
      "other                                0.000000\n",
      "exercised_stock_options              0.000000\n",
      "expenses                             0.000000\n",
      "deferred_income                      0.000000\n",
      "bonus                                0.000000\n",
      "loan_advances                        0.000000\n",
      "total_payments                       0.000000\n",
      "deferred_total_ratio                 0.000000\n"
     ]
    }
   ],
   "source": [
    "# Extract Decision Tree Feature Importances\n",
    "\n",
    "importances = clf.named_steps['algo'].feature_importances_\n",
    "\n",
    "DT_scores = np.column_stack((KB_scores[0:,0],importances))\n",
    "\n",
    "T3 = DT_scores[0:,1]\n",
    "\n",
    "T4=[]\n",
    "for string in T3:\n",
    "    num = float(string)\n",
    "    T4.append(num)\n",
    "    \n",
    "DT_scores_DF = pd.DataFrame(data = T4, index = DT_scores[0:,0])\n",
    "DT_scores_DF.columns = ['Feature_Importance']\n",
    "print DT_scores_DF.sort_values('Feature_Importance',ascending=False)"
   ]
  },
  {
   "cell_type": "markdown",
   "metadata": {},
   "source": [
    "### Final Model\n",
    "\n",
    "Based on the optimization work outlined above, the following final model was generated:"
   ]
  },
  {
   "cell_type": "code",
   "execution_count": 42,
   "metadata": {
    "collapsed": false
   },
   "outputs": [
    {
     "name": "stdout",
     "output_type": "stream",
     "text": [
      "classifier and data have been generated for testing via tester.py\n"
     ]
    }
   ],
   "source": [
    "# Final model\n",
    "# Based on the optimization work discussed above,\n",
    "# the following final model is submitted for evaluation\n",
    "# All features (including 4 synthetic features) other than 'email_address' should be used\n",
    "# Code block will dump classifer and data for checking via tester.py\n",
    "\n",
    "clf = DecisionTreeClassifier(splitter=\"random\",\n",
    "                             max_depth=4,\n",
    "                             min_samples_split=10,\n",
    "                             max_leaf_nodes=8,\n",
    "                             class_weight=\"balanced\",\n",
    "                             random_state=42)\n",
    "\n",
    "clf.fit(features,labels)\n",
    "\n",
    "dump_classifier_and_data(clf, my_dataset, features_list)\n",
    "\n",
    "print \"classifier and data have been generated for testing via tester.py\""
   ]
  },
  {
   "cell_type": "markdown",
   "metadata": {},
   "source": [
    "### Conclusion\n",
    "\n",
    "The work in this notebook provided the steps for generating an Enron POI machine learning classifer. The data was analysed and cleaned and new synthetic features were generated. The data was then formatted for machine learning algorithms. A variety of algorithms were tested and ultimately a decision tree classifier (DTC) was optimized using a variety of techniques, most notably univariate feature selection (via the SelectKBest model) and grid search cross validation. The final model achieved a precision of 0.35 and a recall of 0.81, which exceeded the project mandate to get at least 0.30 for each of these parameters. Further details can be found in the accompanying report."
   ]
  }
 ],
 "metadata": {
  "kernelspec": {
   "display_name": "Python 2",
   "language": "python",
   "name": "python2"
  },
  "language_info": {
   "codemirror_mode": {
    "name": "ipython",
    "version": 2
   },
   "file_extension": ".py",
   "mimetype": "text/x-python",
   "name": "python",
   "nbconvert_exporter": "python",
   "pygments_lexer": "ipython2",
   "version": "2.7.12"
  }
 },
 "nbformat": 4,
 "nbformat_minor": 0
}
